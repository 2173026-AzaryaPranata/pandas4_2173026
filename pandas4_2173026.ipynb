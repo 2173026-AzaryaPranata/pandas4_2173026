{
 "cells": [
  {
   "cell_type": "code",
   "execution_count": null,
   "id": "879b0ada",
   "metadata": {},
   "outputs": [],
   "source": [
    "import pandas as pd\n",
    "import numpy as np\n",
    "\n",
    "print(pd.__version__)\n",
    "print(np.__version__)"
   ]
  },
  {
   "cell_type": "code",
   "execution_count": null,
   "id": "37cbec30",
   "metadata": {},
   "outputs": [],
   "source": [
    "df'['kelompok_usia']=pd.cut(df['usia'],\n",
    "                            bins=[0, 18, 65, 99],\n",
    "                            labels= ['anak', 'dewasa', 'manula'])\n",
    "df"
   ]
  },
  {
   "cell_type": "code",
   "execution_count": null,
   "id": "934ba644",
   "metadata": {},
   "outputs": [],
   "source": [
    "n_rows=10\n",
    "n_cols=1\n",
    "cols=('usia')\n",
    "\n",
    "df= pd.DataFrame(np.random.randint(1, 99, size=(n_rows, n_cols)),\n",
    "                columns=cols)\n",
    "df"
   ]
  },
  {
   "cell_type": "code",
   "execution_count": null,
   "id": "3e865c1a",
   "metadata": {},
   "outputs": [],
   "source": [
    "import pandas as pd\n",
    "import numpy as np\n",
    "\n",
    "print(pd.__version__)\n",
    "print(np.__version__)"
   ]
  },
  {
   "cell_type": "code",
   "execution_count": null,
   "id": "a747d63f",
   "metadata": {},
   "outputs": [],
   "source": [
    "n_rows= 5\n",
    "n_cols= 5\n",
    "cols=tuple ('ABCDE')\n",
    "\n",
    "df= pd.DataFrame(np.random.randint(1, 20, size=(n_rows, n_cols)),\n",
    "                columns=cols)\n",
    "df.head()"
   ]
  },
  {
   "cell_type": "code",
   "execution_count": null,
   "id": "085c5019",
   "metadata": {},
   "outputs": [],
   "source": [
    "df1=df.copy(deep=True)\n",
    "df1=df1.drop([1, 4])\n",
    "df1"
   ]
  },
  {
   "cell_type": "code",
   "execution_count": null,
   "id": "3e69d310",
   "metadata": {},
   "outputs": [],
   "source": [
    "df2=df.copy(deep=True)\n",
    "df2=df2.drop([0, 3])\n",
    "df2"
   ]
  },
  {
   "cell_type": "code",
   "execution_count": null,
   "id": "fcd4bbde",
   "metadata": {},
   "outputs": [],
   "source": [
    "df_inner=pd.merge(df1, df2, how=\"inner\")\n",
    "df_inner"
   ]
  },
  {
   "cell_type": "code",
   "execution_count": null,
   "id": "eadde33a",
   "metadata": {},
   "outputs": [],
   "source": [
    "df_outer=pd.merge(df1, df2, how=\"outer\")\n",
    "df_outer"
   ]
  },
  {
   "cell_type": "code",
   "execution_count": null,
   "id": "ad9967b6",
   "metadata": {},
   "outputs": [],
   "source": [
    "import pandas as pd\n",
    "\n",
    "print(pd.__version__)"
   ]
  },
  {
   "cell_type": "code",
   "execution_count": null,
   "id": "3df44b93",
   "metadata": {},
   "outputs": [],
   "source": [
    "data={'nama':['Didi Kempot', 'Glenn Fredly', 'Mbah Surip'],\n",
    "     'tempat_kelahiran':['Surakarta', 'Jawa Tengah', 'Jakarta', 'DKI Jakarta', 'Mojokerto', 'Jawa Timur']}\n",
    "df=pd.DataFrame(data)\n",
    "df"
   ]
  },
  {
   "cell_type": "code",
   "execution_count": null,
   "id": "62cb974f",
   "metadata": {},
   "outputs": [],
   "source": [
    "df[['nama_depan', 'nama_belakang']]= df ['nama'].str.split('', expand=True)\n",
    "df"
   ]
  },
  {
   "cell_type": "code",
   "execution_count": null,
   "id": "5239a176",
   "metadata": {},
   "outputs": [],
   "source": [
    "df[['kota', 'propinsi']]= df ['tempat_kelahiran'].str.split('', expand=True)\n",
    "df"
   ]
  },
  {
   "cell_type": "code",
   "execution_count": null,
   "id": "0a0bee77",
   "metadata": {},
   "outputs": [],
   "source": [
    "import pandas as pd\n",
    "\n",
    "print(pd.__version__)"
   ]
  },
  {
   "cell_type": "code",
   "execution_count": null,
   "id": "bee5cb29",
   "metadata": {},
   "outputs": [],
   "source": [
    "df= pd.read_csv('./data/titanicfull.csv')\n",
    "df.head()"
   ]
  },
  {
   "cell_type": "code",
   "execution_count": null,
   "id": "9201dfd5",
   "metadata": {},
   "outputs": [],
   "source": [
    "df.grupbhy(['sex', 'pclass'])['survived'].mean().to_frame()"
   ]
  },
  {
   "cell_type": "code",
   "execution_count": null,
   "id": "6d4d2e25",
   "metadata": {},
   "outputs": [],
   "source": [
    "df= pd.read_csv('./data/titancfull.csv')\n",
    "df.head()"
   ]
  },
  {
   "cell_type": "code",
   "execution_count": null,
   "id": "5e6e746e",
   "metadata": {},
   "outputs": [],
   "source": [
    "df.grupbhy(['sex', 'pclass'])['survived'].mean().unstack()"
   ]
  }
 ],
 "metadata": {
  "kernelspec": {
   "display_name": "Python 3 (ipykernel)",
   "language": "python",
   "name": "python3"
  },
  "language_info": {
   "codemirror_mode": {
    "name": "ipython",
    "version": 3
   },
   "file_extension": ".py",
   "mimetype": "text/x-python",
   "name": "python",
   "nbconvert_exporter": "python",
   "pygments_lexer": "ipython3",
   "version": "3.10.7"
  }
 },
 "nbformat": 4,
 "nbformat_minor": 5
}
